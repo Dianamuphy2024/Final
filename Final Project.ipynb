{
 "cells": [
  {
   "cell_type": "code",
   "execution_count": 165,
   "id": "cfad0a8b",
   "metadata": {},
   "outputs": [
    {
     "name": "stdout",
     "output_type": "stream",
     "text": [
      "%pylab is deprecated, use %matplotlib inline and import the required libraries.\n",
      "Populating the interactive namespace from numpy and matplotlib\n"
     ]
    },
    {
     "name": "stderr",
     "output_type": "stream",
     "text": [
      "/Users/shixinmu/anaconda3/lib/python3.10/site-packages/IPython/core/magics/pylab.py:162: UserWarning: pylab import has clobbered these variables: ['diff']\n",
      "`%matplotlib` prevents importing * from pylab and numpy\n",
      "  warn(\"pylab import has clobbered these variables: %s\"  % clobbered +\n"
     ]
    }
   ],
   "source": [
    "%pylab inline\n",
    "import math\n",
    "from sympy import symbols,diff"
   ]
  },
  {
   "cell_type": "code",
   "execution_count": 145,
   "id": "5edd189d",
   "metadata": {},
   "outputs": [
    {
     "data": {
      "text/plain": [
       "2.0"
      ]
     },
     "execution_count": 145,
     "metadata": {},
     "output_type": "execute_result"
    }
   ],
   "source": [
    "sqrt(4)"
   ]
  },
  {
   "cell_type": "markdown",
   "id": "08a85362",
   "metadata": {},
   "source": [
    "Factorial Part"
   ]
  },
  {
   "cell_type": "code",
   "execution_count": 156,
   "id": "32e62572",
   "metadata": {},
   "outputs": [],
   "source": [
    "def coef(n,a,l,r):\n",
    "    exp = e**(-r/(n*a))\n",
    "    pow = ((2*l)/(n*a))**l\n",
    "    cube = sqrt((2/(n*a))**3)\n",
    "    fact = (math.factorial(n-l-1))/(2*n*(math.factorial(n+l)))\n",
    "    return exp*pow*cube*sqrt(fact)"
   ]
  },
  {
   "cell_type": "code",
   "execution_count": 157,
   "id": "a3c4db30",
   "metadata": {},
   "outputs": [],
   "source": [
    "n = 3\n",
    "a = 2\n",
    "l = 2\n",
    "r = 2"
   ]
  },
  {
   "cell_type": "code",
   "execution_count": 159,
   "id": "72c5089c",
   "metadata": {},
   "outputs": [
    {
     "name": "stdout",
     "output_type": "stream",
     "text": [
      "0.0022840443069040823\n"
     ]
    }
   ],
   "source": [
    "k = coef(n,a,l,r)\n",
    "print(k)"
   ]
  },
  {
   "cell_type": "markdown",
   "id": "080598e2",
   "metadata": {},
   "source": [
    "Laguerre polynomial"
   ]
  },
  {
   "cell_type": "code",
   "execution_count": 66,
   "id": "a1e5e324",
   "metadata": {},
   "outputs": [],
   "source": [
    "#Coefficient of derivative of a polynomial\n",
    "#a = np.array \n",
    "def poly_dev(a):\n",
    "    b = a[1:]\n",
    "    c = np.arange(1,len(a),1)\n",
    "    #print(\"c:\",c)\n",
    "    #print(\"b:\",b)\n",
    "    return c*b"
   ]
  },
  {
   "cell_type": "code",
   "execution_count": null,
   "id": "0e58c59b",
   "metadata": {},
   "outputs": [],
   "source": [
    "#Define a summation of power series\n",
    "def poly(x):\n",
    "    p = 0\n",
    "    for i in range(n-m,n+1):\n",
    "        p = p + x**i\n",
    "    return p"
   ]
  },
  {
   "cell_type": "code",
   "execution_count": 67,
   "id": "05798849",
   "metadata": {},
   "outputs": [
    {
     "name": "stdout",
     "output_type": "stream",
     "text": [
      "[0 1 3 1]\n",
      "c: [1 2 3]\n",
      "b: [1 3 1]\n",
      "[1 6 3]\n",
      "c: [1 2]\n",
      "b: [6 3]\n",
      "[6 6]\n"
     ]
    }
   ],
   "source": [
    "#Only print results when we call the function\n",
    "#Test with an array a\n",
    "a = np.array([0,1,3,1])\n",
    "print(a)\n",
    "a = poly_dev(a)\n",
    "print(a)\n",
    "a=poly_dev(a)\n",
    "print(a)"
   ]
  },
  {
   "cell_type": "code",
   "execution_count": 40,
   "id": "6c96097c",
   "metadata": {},
   "outputs": [
    {
     "name": "stdout",
     "output_type": "stream",
     "text": [
      "[1 2]\n",
      "[2 4]\n"
     ]
    }
   ],
   "source": [
    "c = np.arange(1,3,1)\n",
    "print(c)\n",
    "print(b)"
   ]
  },
  {
   "cell_type": "code",
   "execution_count": 162,
   "id": "a8b66897",
   "metadata": {},
   "outputs": [],
   "source": [
    "complex = 1j"
   ]
  },
  {
   "cell_type": "code",
   "execution_count": 163,
   "id": "d4f6f2ec",
   "metadata": {},
   "outputs": [
    {
     "data": {
      "text/plain": [
       "(-1+0j)"
      ]
     },
     "execution_count": 163,
     "metadata": {},
     "output_type": "execute_result"
    }
   ],
   "source": [
    "complex**2"
   ]
  },
  {
   "cell_type": "code",
   "execution_count": 200,
   "id": "9714b9ab",
   "metadata": {},
   "outputs": [],
   "source": [
    "def L(l,r,n,a,f1):\n",
    "    coeff1 = ((2*r/(n*a))**(-(2*l+1))*e**x)/math.factorial(n-l-1)\n",
    "    f1 = e**(2*r/(n*a))*(2*r/(n*a)**(n+l))\n",
    "    deriv1 = diff(f1,n+l)\n",
    "    return coeff1*deriv1"
   ]
  },
  {
   "cell_type": "code",
   "execution_count": 199,
   "id": "adcf5222",
   "metadata": {},
   "outputs": [
    {
     "ename": "NameError",
     "evalue": "name 'f1' is not defined",
     "output_type": "error",
     "traceback": [
      "\u001b[0;31m---------------------------------------------------------------------------\u001b[0m",
      "\u001b[0;31mNameError\u001b[0m                                 Traceback (most recent call last)",
      "Cell \u001b[0;32mIn[199], line 1\u001b[0m\n\u001b[0;32m----> 1\u001b[0m L \u001b[38;5;241m=\u001b[39m L(l,r,n,a,\u001b[43mf1\u001b[49m)\n",
      "\u001b[0;31mNameError\u001b[0m: name 'f1' is not defined"
     ]
    }
   ],
   "source": [
    "L = L(l,r,n,a,f1)"
   ]
  },
  {
   "cell_type": "markdown",
   "id": "96858f86",
   "metadata": {},
   "source": [
    "Spherical Harmonic"
   ]
  },
  {
   "cell_type": "code",
   "execution_count": 166,
   "id": "19ba7840",
   "metadata": {},
   "outputs": [],
   "source": [
    "def nth_deriv(f,k):\n",
    "    x = symbols('x')\n",
    "    derv = f\n",
    "    for _ in range(k):\n",
    "        derv = diff(derv,x)\n",
    "        return derv"
   ]
  },
  {
   "cell_type": "code",
   "execution_count": 170,
   "id": "eb665330",
   "metadata": {},
   "outputs": [
    {
     "data": {
      "text/latex": [
       "$\\displaystyle - 1.0 \\cdot 2.71828182845905^{- x}$"
      ],
      "text/plain": [
       "-1.0/2.71828182845905**x"
      ]
     },
     "execution_count": 170,
     "metadata": {},
     "output_type": "execute_result"
    }
   ],
   "source": [
    "x = symbols('x')\n",
    "f = e**(-x)\n",
    "k = 3\n",
    "nth_deriv(f,k)"
   ]
  },
  {
   "cell_type": "code",
   "execution_count": 185,
   "id": "fdb44812",
   "metadata": {},
   "outputs": [],
   "source": [
    "#l2 is actually the same l as the coefficient part. When test the function, we can enter same number.\n",
    "#However, I'm using a different variable here because I don't want the computer to mess up with variables.\n",
    "def Y(m,l2,theta,phi,f2):\n",
    "    coeff2 = sqrt((2*l+1)/(4*math.pi))\n",
    "    fact2 = math.factorial(l-m)/math.factorial(l+m)\n",
    "    e_phi = exp(1j*m*phi)\n",
    "    poly = ((-1)**m)*((1-(cos(theta))**2)**(m/2))*(1/(2**l)*math.factorial(l))\n",
    "    f2 = ((cos(theta)**2)-1)**l\n",
    "    deriv2 = nth_deriv(f2,m+l)\n",
    "    return coeff2*sqrt(fact2)*e_phi*poly*deriv2"
   ]
  },
  {
   "cell_type": "code",
   "execution_count": 197,
   "id": "d739b7a6",
   "metadata": {},
   "outputs": [],
   "source": [
    "def psi(n,a,l,r,m,l2,theta,phi,f1,f2):\n",
    "    return coef*L*Y"
   ]
  },
  {
   "cell_type": "code",
   "execution_count": 198,
   "id": "ca27637f",
   "metadata": {},
   "outputs": [
    {
     "ename": "NameError",
     "evalue": "name 'f1' is not defined",
     "output_type": "error",
     "traceback": [
      "\u001b[0;31m---------------------------------------------------------------------------\u001b[0m",
      "\u001b[0;31mNameError\u001b[0m                                 Traceback (most recent call last)",
      "Cell \u001b[0;32mIn[198], line 1\u001b[0m\n\u001b[0;32m----> 1\u001b[0m wavefunction \u001b[38;5;241m=\u001b[39m psi(n,a,l,r,m,l2,theta,phi,\u001b[43mf1\u001b[49m,f2)\n",
      "\u001b[0;31mNameError\u001b[0m: name 'f1' is not defined"
     ]
    }
   ],
   "source": [
    "wavefunction = psi(n,a,l,r,m,l2,theta,phi,f1,f2)"
   ]
  },
  {
   "cell_type": "code",
   "execution_count": 192,
   "id": "26fc3f45",
   "metadata": {},
   "outputs": [
    {
     "name": "stdout",
     "output_type": "stream",
     "text": [
      "\n"
     ]
    }
   ],
   "source": [
    "n = 1\n",
    "l = 0\n",
    "l2 = 0\n",
    "m = 0\n",
    "a = 1\n",
    "r = 1\n",
    "theta = 0\n",
    "phi = 0\n",
    "print(wavefunction)"
   ]
  },
  {
   "cell_type": "code",
   "execution_count": null,
   "id": "013fcebb",
   "metadata": {},
   "outputs": [],
   "source": []
  }
 ],
 "metadata": {
  "kernelspec": {
   "display_name": "Python 3 (ipykernel)",
   "language": "python",
   "name": "python3"
  },
  "language_info": {
   "codemirror_mode": {
    "name": "ipython",
    "version": 3
   },
   "file_extension": ".py",
   "mimetype": "text/x-python",
   "name": "python",
   "nbconvert_exporter": "python",
   "pygments_lexer": "ipython3",
   "version": "3.10.11"
  }
 },
 "nbformat": 4,
 "nbformat_minor": 5
}
